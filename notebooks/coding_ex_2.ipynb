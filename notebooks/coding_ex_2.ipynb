{
 "cells": [
  {
   "cell_type": "markdown",
   "metadata": {},
   "source": [
    "![Coding Example 2 Image](../media/coding_ex_2.png)"
   ]
  },
  {
   "cell_type": "code",
   "execution_count": null,
   "metadata": {},
   "outputs": [],
   "source": [
    "from scoptimize.network import Model, Node, Flow\n",
    "from pprint import pp"
   ]
  },
  {
   "cell_type": "code",
   "execution_count": 24,
   "metadata": {},
   "outputs": [
    {
     "name": "stdout",
     "output_type": "stream",
     "text": [
      "-120.5\n"
     ]
    }
   ],
   "source": [
    "model = Model(name='coding_ex_2'')\n",
    "\n",
    "# Add nodes\n",
    "model.add_object(Node(name=\"Factory_T1\", origin=True, cashflow_per_unit=-1, max_units=15))\n",
    "model.add_object(Node(name=\"Factory_T2\", origin=True, cashflow_per_unit=-1, max_units=15))\n",
    "model.add_object(Node(name=\"Warehouse_T1\", cashflow_per_unit=-1, max_units=100))\n",
    "model.add_object(Node(name=\"Warehouse_T2\", cashflow_per_unit=-1, max_units=100))\n",
    "model.add_object(Node(name=\"Customer_T1\", destination=True, min_units=10))\n",
    "model.add_object(Node(name=\"Customer_T2\", destination=True, min_units=20))\n",
    "\n",
    "# Add standard shipping flows\n",
    "model.add_object(Flow(name=\"Factory_T1__Warehouse_T1\", cashflow_per_unit=-1, max_units=100, start='Factory_T1', end='Warehouse_T1'))\n",
    "model.add_object(Flow(name=\"Factory_T2__Warehouse_T2\", cashflow_per_unit=-1, max_units=100, start='Factory_T2', end='Warehouse_T2'))\n",
    "model.add_object(Flow(name=\"Warehouse_T1__Customer_T1\", cashflow_per_unit=-1, max_units=100, start='Warehouse_T1', end='Customer_T1'))\n",
    "model.add_object(Flow(name=\"Warehouse_T2__Customer_T2\", cashflow_per_unit=-1, max_units=100, start='Warehouse_T2', end='Customer_T2'))\n",
    "\n",
    "# Add warehouse inventory (as a flow)\n",
    "model.add_object(Flow(name=\"Warehose_T1__Warehouse_T2\", cashflow_per_unit=-.1, max_units=100, start='Warehouse_T1', end='Warehouse_T2', reflow=True))\n",
    "\n",
    "# Solve the model\n",
    "model.solve()\n",
    "\n",
    "# Print the model objective\n",
    "print(model.objective)"
   ]
  },
  {
   "cell_type": "code",
   "execution_count": 21,
   "metadata": {},
   "outputs": [
    {
     "name": "stdout",
     "output_type": "stream",
     "text": [
      "{'Factory_T1': 15.0,\n",
      " 'Factory_T2': 15.0,\n",
      " 'Warehouse_T1': 10.0,\n",
      " 'Warehouse_T2': 20.0,\n",
      " 'Customer_T1': 0,\n",
      " 'Customer_T2': 0,\n",
      " 'Factory_T1__Warehouse_T1': 15.0,\n",
      " 'Factory_T2__Warehouse_T2': 15.0,\n",
      " 'Warehouse_T1__Customer_T1': 10.0,\n",
      " 'Warehouse_T2__Customer_T2': 20.0,\n",
      " 'Warehose_T1__Warehouse_T2': 5.0}\n"
     ]
    }
   ],
   "source": [
    "pp({k:v.get('outflows', v.get('flow')) for k,v in adv_model.get_object_stats().items()})"
   ]
  }
 ],
 "metadata": {
  "kernelspec": {
   "display_name": "venv",
   "language": "python",
   "name": "python3"
  },
  "language_info": {
   "codemirror_mode": {
    "name": "ipython",
    "version": 3
   },
   "file_extension": ".py",
   "mimetype": "text/x-python",
   "name": "python",
   "nbconvert_exporter": "python",
   "pygments_lexer": "ipython3",
   "version": "3.10.12"
  }
 },
 "nbformat": 4,
 "nbformat_minor": 2
}
