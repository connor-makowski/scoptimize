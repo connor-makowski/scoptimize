{
 "cells": [
  {
   "cell_type": "markdown",
   "metadata": {},
   "source": [
    "![Coding Example 1 Image](../media/coding_ex_1.png)"
   ]
  },
  {
   "cell_type": "code",
   "execution_count": null,
   "metadata": {},
   "outputs": [],
   "source": [
    "from scoptimize.network import Model, Node, Flow\n",
    "from pprint import pp"
   ]
  },
  {
   "cell_type": "code",
   "execution_count": 5,
   "metadata": {},
   "outputs": [
    {
     "name": "stdout",
     "output_type": "stream",
     "text": [
      "-20.0\n"
     ]
    }
   ],
   "source": [
    "# Create the Model\n",
    "model = Model(name='coding_ex_1')\n",
    "# Add Nodes\n",
    "model.add_object(Node(name=\"Factory\", origin=True, cashflow_per_unit=-1, max_units=15))\n",
    "model.add_object(Node(name=\"Customer\", destination=True, min_units=10))\n",
    "# Add Flows\n",
    "model.add_object(Flow(name=\"Factory__Customer\", cashflow_per_unit=-1, max_units=15, start='Factory', end='Customer'))\n",
    "# Solve the Model\n",
    "model.solve()\n",
    "# Print the Model Objective\n",
    "print(model.objective)"
   ]
  },
  {
   "cell_type": "code",
   "execution_count": 3,
   "metadata": {},
   "outputs": [
    {
     "name": "stdout",
     "output_type": "stream",
     "text": [
      "{'Factory': 10.0, 'Customer': 0, 'Factory__Customer': 10.0}\n"
     ]
    }
   ],
   "source": [
    "pp({k:v.get('outflows', v.get('flow')) for k,v in model.get_object_stats().items()})"
   ]
  }
 ],
 "metadata": {
  "kernelspec": {
   "display_name": "venv",
   "language": "python",
   "name": "python3"
  },
  "language_info": {
   "codemirror_mode": {
    "name": "ipython",
    "version": 3
   },
   "file_extension": ".py",
   "mimetype": "text/x-python",
   "name": "python",
   "nbconvert_exporter": "python",
   "pygments_lexer": "ipython3",
   "version": "3.11.4"
  }
 },
 "nbformat": 4,
 "nbformat_minor": 2
}
