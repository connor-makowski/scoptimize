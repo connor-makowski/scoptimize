{
 "cells": [
  {
   "cell_type": "code",
   "execution_count": 2,
   "metadata": {},
   "outputs": [],
   "source": [
    "from scoptimize.network import Model, Node, Flow\n",
    "from pprint import pp"
   ]
  },
  {
   "cell_type": "code",
   "execution_count": 10,
   "metadata": {},
   "outputs": [],
   "source": [
    "# Initialize a Model:\n",
    "# See: https://connor-makowski.github.io/scoptimize/scoptimize/network.html#Model\n",
    "model = Model(name='simple_model')"
   ]
  },
  {
   "cell_type": "code",
   "execution_count": 11,
   "metadata": {},
   "outputs": [],
   "source": [
    "# Create some nodes and add them to the model:\n",
    "# See: https://connor-makowski.github.io/scoptimize/scoptimize/network.html#Node\n",
    "model.add_object(Node(name=\"Factory_1\", origin=True, cashflow_per_unit=-1, max_units=15))\n",
    "model.add_object(Node(name=\"Customer_1\", destination=True, min_units=10))"
   ]
  },
  {
   "cell_type": "code",
   "execution_count": 12,
   "metadata": {},
   "outputs": [],
   "source": [
    "# Create some flows and add them to the model:\n",
    "# See: https://connor-makowski.github.io/scoptimize/scoptimize/network.html#Flow\n",
    "model.add_object(Flow(name=\"Factory_1__Customer_1\", cashflow_per_unit=-1, max_units=15, start='Factory_1', end='Customer_1'))"
   ]
  },
  {
   "cell_type": "code",
   "execution_count": 18,
   "metadata": {},
   "outputs": [
    {
     "name": "stdout",
     "output_type": "stream",
     "text": [
      "-20.0\n"
     ]
    }
   ],
   "source": [
    "# Solve the model:\n",
    "# See: https://connor-makowski.github.io/scoptimize/scoptimize/network.html#Model.solve\n",
    "model.solve()\n",
    "# Print the model objective value:\n",
    "print(model.objective)"
   ]
  },
  {
   "cell_type": "code",
   "execution_count": 19,
   "metadata": {},
   "outputs": [
    {
     "name": "stdout",
     "output_type": "stream",
     "text": [
      "{'Factory_1': {'name': 'Factory_1',\n",
      "               'class': 'Node',\n",
      "               'origin': True,\n",
      "               'destination': False,\n",
      "               'inflows': 0.0,\n",
      "               'outflows': 10.0,\n",
      "               'reflows_in': 0.0,\n",
      "               'reflows_out': 0.0,\n",
      "               'use': 1.0,\n",
      "               'variable_cashflow': -10.0,\n",
      "               'fixed_cashflow': 0.0},\n",
      " 'Customer_1': {'name': 'Customer_1',\n",
      "                'class': 'Node',\n",
      "                'origin': False,\n",
      "                'destination': True,\n",
      "                'inflows': 10.0,\n",
      "                'outflows': 0,\n",
      "                'reflows_in': 0.0,\n",
      "                'reflows_out': 0.0,\n",
      "                'use': 1.0,\n",
      "                'variable_cashflow': 0.0,\n",
      "                'fixed_cashflow': 0.0},\n",
      " 'Factory_1__Customer_1': {'name': 'Factory_1__Customer_1',\n",
      "                           'class': 'Flow',\n",
      "                           'reflow': False,\n",
      "                           'start': 'Factory_1',\n",
      "                           'end': 'Customer_1',\n",
      "                           'flow': 10.0,\n",
      "                           'use': 1.0,\n",
      "                           'variable_cashflow': -10.0,\n",
      "                           'fixed_cashflow': 0.0}}\n"
     ]
    }
   ],
   "source": [
    "#Print the model stats:\n",
    "# See: https://connor-makowski.github.io/scoptimize/scoptimize/network.html#Model.get_object_stats\n",
    "pp(model.get_object_stats())\n",
    "# For information on reflows, see: https://connor-makowski.github.io/scoptimize/scoptimize/network.html#Flow.__init__"
   ]
  }
 ],
 "metadata": {
  "kernelspec": {
   "display_name": "venv",
   "language": "python",
   "name": "python3"
  },
  "language_info": {
   "codemirror_mode": {
    "name": "ipython",
    "version": 3
   },
   "file_extension": ".py",
   "mimetype": "text/x-python",
   "name": "python",
   "nbconvert_exporter": "python",
   "pygments_lexer": "ipython3",
   "version": "3.10.12"
  }
 },
 "nbformat": 4,
 "nbformat_minor": 2
}
